{
 "cells": [
  {
   "cell_type": "code",
   "execution_count": 1,
   "metadata": {},
   "outputs": [],
   "source": [
    "# Set Working Directory\n",
    "import os\n",
    "os.chdir('..')"
   ]
  },
  {
   "cell_type": "code",
   "execution_count": 2,
   "metadata": {},
   "outputs": [],
   "source": [
    "# Load Requirements\n",
    "import pandas as pd\n",
    "import numpy as np\n",
    "import chardet\n",
    "import zipfile\n",
    "from functools import reduce\n",
    "from helper import *"
   ]
  },
  {
   "cell_type": "markdown",
   "metadata": {},
   "source": [
    "# Obtain data"
   ]
  },
  {
   "cell_type": "markdown",
   "metadata": {},
   "source": [
    "The data I used for this project came from the [Common Core Dataset](https://nces.ed.gov/ccd/)  managed by the [National Center of Education Statistics](https://nces.ed.gov/). <br/>  \n",
    "The datasets needed are: <br/>  \n",
    "- [Universe - District Level - 2009-2010](https://nces.ed.gov/ccd/data/zip/ag092a_txt.zip)\n",
    "- [Universe - School Level - 2009-2010](https://nces.ed.gov/ccd/data/zip/sc092a_txt.zip)\n",
    "- [Universe Membership - District Level - 2014-2015](https://nces.ed.gov/ccd/Data/zip/ccd_lea_052_1415_w_0216161a_txt.zip)\n",
    "- [Universe Directory - District Level - 2014-2015](https://nces.ed.gov/ccd/Data/zip/ccd_lea_029_1415_w_0216161ar_txt.zip)\n",
    "- [Finance - District Level - 2009-2010](https://nces.ed.gov/ccd/data/zip/SDF101a_txt.zip)\n",
    "- [Dropout - District Level - 2009-2010](https://nces.ed.gov/ccd/data/zip/dr091a_txt.zip)"
   ]
  },
  {
   "cell_type": "markdown",
   "metadata": {},
   "source": [
    "I downloaded the data into the 'data' folder, and they were renamed using a common schema ('filetype_fiscalYYYY.txt.zip'). <br/>\n",
    "\n",
    "Examples:\n",
    "- 'school_universe_fiscal2010.txt.zip'\n",
    "- 'directory_fiscal2015.txt.zip'\n",
    "- 'dropout_fiscal2010.txt.zip'"
   ]
  },
  {
   "cell_type": "markdown",
   "metadata": {},
   "source": [
    "# Load data into data frames"
   ]
  },
  {
   "cell_type": "markdown",
   "metadata": {},
   "source": [
    "First, I determined the encoding of the files before loading them into data frames. To accomplish this, I used the [chardet](http://chardet.readthedocs.io/en/latest/usage.html) library.\n",
    "\n",
    "One key was using a random sample of only 1000 lines to reduce time."
   ]
  },
  {
   "cell_type": "code",
   "execution_count": 3,
   "metadata": {},
   "outputs": [],
   "source": [
    "def find_encoding(file, is_zipped=True):\n",
    "    \"\"\"\n",
    "    Return encoding of file\n",
    "\n",
    "    param string file: Location of file to read (include folder name)\n",
    "    param bool is_zipped: True if file is zipped, otherwise False\n",
    "    \"\"\"\n",
    "    if is_zipped:\n",
    "        file_name = file.split('/')[1]\n",
    "        with zipfile.ZipFile(file, 'r') as archive:\n",
    "            with archive.open(file_name[:-4]) as raw_data:\n",
    "                lines = raw_data.readlines()\n",
    "                sample_lines = np.random.choice(lines, 1000) # use random sample of 1000 lines instead of entire file\n",
    "                sample_text = b'\\n'.join(sample_lines)\n",
    "                encoding_prediction = chardet.detect(sample_text)\n",
    "                raw_data.close()\n",
    "            archive.close()\n",
    "        encoding_type = encoding_prediction['encoding']\n",
    "    else:\n",
    "        with open(file, 'rb') as raw_data:\n",
    "            lines = raw_data.readlines()\n",
    "            sample_lines = np.random.choice(lines, 1000) # use random sample of 1000 lines instead of entire file\n",
    "            sample_text = b'\\n'.join(sample_lines)\n",
    "            encoding_prediction = chardet.detect(sample_text)\n",
    "            raw_data.close()\n",
    "        encoding_type = encoding_prediction['encoding']\n",
    "\n",
    "    return encoding_type"
   ]
  },
  {
   "cell_type": "code",
   "execution_count": 4,
   "metadata": {},
   "outputs": [
    {
     "name": "stdout",
     "output_type": "stream",
     "text": [
      "dropout_fiscal2010.txt.zip: ascii\n",
      "directory_fiscal2015.txt.zip: ascii\n"
     ]
    }
   ],
   "source": [
    "# Test find_encoding function\n",
    "print('dropout_fiscal2010.txt.zip:', find_encoding(file='data/dropout_fiscal2010.txt.zip', is_zipped=True))\n",
    "print('directory_fiscal2015.txt.zip:', find_encoding(file='data/directory_fiscal2015.txt.zip', is_zipped=True))"
   ]
  },
  {
   "cell_type": "markdown",
   "metadata": {},
   "source": [
    "I created a function to read the data into dataframes without unzipping the zipped files and using the encoding from earlier.\n",
    "\n",
    "Since I only used 1000 lines to determine the encoding, it is possible that the encoding is incorrect. To address this, I used a loop with error handling to repeatedly try reading the file with the encoding determined in the find_encoding function until the file is successfully loaded into a dataframe."
   ]
  },
  {
   "cell_type": "code",
   "execution_count": 5,
   "metadata": {},
   "outputs": [],
   "source": [
    "def load_data(data_type, year='2010', location='data'):\n",
    "    \"\"\"\n",
    "    Return pandas dataframe of raw data\n",
    "\n",
    "    param string data_type: Type of data being read\n",
    "        options: 'finance', 'dropout', 'universe', 'membership'\n",
    "    param string location: Folder where data is located\n",
    "    \"\"\"\n",
    "    file_in = location + '/' + data_type + '_fiscal' + year + '.txt.zip'\n",
    "    archive = zipfile.ZipFile(file_in, 'r')\n",
    "    data_table = None\n",
    "    while data_table is None: # keep finding encoding until correct encoding is found\n",
    "        try:\n",
    "            encoding_type = find_encoding(file_in)\n",
    "            data_table = pd.read_table(archive.open(data_type + '_fiscal' + year + '.txt'), dtype='str', delimiter='\\t', encoding=encoding_type)\n",
    "        except:\n",
    "            pass\n",
    "\n",
    "    return data_table"
   ]
  },
  {
   "cell_type": "code",
   "execution_count": 6,
   "metadata": {},
   "outputs": [],
   "source": [
    "# Read files into dataframes\n",
    "finance_data = load_data('finance')\n",
    "dropout_data = load_data('dropout')\n",
    "universe_data = load_data('universe')\n",
    "directory_data = load_data('directory', year='2015')"
   ]
  },
  {
   "cell_type": "code",
   "execution_count": 7,
   "metadata": {},
   "outputs": [
    {
     "name": "stdout",
     "output_type": "stream",
     "text": [
      "finance_data: (18247, 256)\n",
      "dropout_data: (18439, 10)\n",
      "universe_data: (18439, 58)\n",
      "directory_data: (18834, 56)\n"
     ]
    }
   ],
   "source": [
    "# Print shapes of data\n",
    "print('finance_data:', finance_data.shape)\n",
    "print('dropout_data:', dropout_data.shape)\n",
    "print('universe_data:', universe_data.shape)\n",
    "print('directory_data:', directory_data.shape)"
   ]
  },
  {
   "cell_type": "markdown",
   "metadata": {},
   "source": [
    "# Aggregate school level universe data to produce district level data"
   ]
  },
  {
   "cell_type": "markdown",
   "metadata": {},
   "source": [
    "The demographic breakdown of school districts are not available in the district-level universe data. To obtain district-level demographic data, I aggregated the demographic data from the school level."
   ]
  },
  {
   "cell_type": "code",
   "execution_count": 8,
   "metadata": {},
   "outputs": [],
   "source": [
    "def aggregate_school_data(school_columns):\n",
    "    \"\"\"\n",
    "    Return dataframe of numerical columns within school_universe grouped by (sum) LEAID\n",
    "\n",
    "    param dataframe school_columns: list of columns in the school universe file\n",
    "    \"\"\"\n",
    "    school_universe_data = load_data('school_universe')\n",
    "    school_universe_data = school_universe_data[school_columns]\n",
    "    school_universe_data = encode_missing_values(school_universe_data) # description of function in later part of notebook\n",
    "    for column in school_columns:\n",
    "        if column != 'LEAID':\n",
    "            school_universe_data[column] = pd.to_numeric(school_universe_data[column])\n",
    "    school_universe_data = school_universe_data.groupby('LEAID').sum(skipna=True, min_count=1).reset_index()\n",
    "\n",
    "    return school_universe_data"
   ]
  },
  {
   "cell_type": "code",
   "execution_count": 9,
   "metadata": {},
   "outputs": [
    {
     "name": "stdout",
     "output_type": "stream",
     "text": [
      "demographic_data: (17177, 249)\n"
     ]
    }
   ],
   "source": [
    "# Execute aggregate_school_data function\n",
    "school_columns = load_columns('school') # reads csv file with list of columns in school_universe file\n",
    "demographic_data = aggregate_school_data(school_columns)\n",
    "print('demographic_data:', demographic_data.shape)"
   ]
  },
  {
   "cell_type": "markdown",
   "metadata": {},
   "source": [
    "Because these steps take a long time to complete, I saved the aggregated dataset into a csv file. It is saved in the 'output' folder as 'demographic_data.csv.'"
   ]
  },
  {
   "cell_type": "code",
   "execution_count": 10,
   "metadata": {},
   "outputs": [],
   "source": [
    "# Save aggregated demographic data into outputs folder for later use\n",
    "demographic_data.to_csv(\"output/demographic_data.csv\", index=False)"
   ]
  },
  {
   "cell_type": "markdown",
   "metadata": {},
   "source": [
    "# Merge dataframes"
   ]
  },
  {
   "cell_type": "markdown",
   "metadata": {},
   "source": [
    "I created a function to merge the dataframes into a single dataframe. The dataframes will be joined by 'LEAID' which is a unique identifier for each school district. Like before, I saved the data in as 'merged_data.csv' in the 'output' folder."
   ]
  },
  {
   "cell_type": "code",
   "execution_count": 11,
   "metadata": {},
   "outputs": [],
   "source": [
    "def merge_data(*args):\n",
    "    \"\"\"\n",
    "    Return pandas dataframe of merged dataframe\n",
    "\n",
    "    param dataframe *args: dataframes of raw data to be joined (typically finance, dropout, and universe)\n",
    "    \"\"\"\n",
    "    data_frames = list(args)\n",
    "    merged_data = reduce(lambda d1, d2: pd.merge(d1, d2, how='outer', left_on='LEAID', right_on='LEAID'), data_frames)\n",
    "\n",
    "    return merged_data"
   ]
  },
  {
   "cell_type": "code",
   "execution_count": 12,
   "metadata": {},
   "outputs": [
    {
     "name": "stdout",
     "output_type": "stream",
     "text": [
      "merged_data: (18465, 570)\n"
     ]
    }
   ],
   "source": [
    "# Execute merge_data function\n",
    "merged_data = merge_data(finance_data, dropout_data, universe_data, demographic_data)\n",
    "print('merged_data:', merged_data.shape)"
   ]
  },
  {
   "cell_type": "code",
   "execution_count": 13,
   "metadata": {},
   "outputs": [],
   "source": [
    "# Save merged_data into outputs folder for later use\n",
    "merged_data.to_csv(\"output/merged_data.csv\", index=False)"
   ]
  },
  {
   "cell_type": "markdown",
   "metadata": {},
   "source": [
    "# Remove flag columns"
   ]
  },
  {
   "cell_type": "markdown",
   "metadata": {},
   "source": [
    "According to documentation, columns that begin with 'FL_' are used to flag data in other columns, and they would not be useful for the analysis. I created a function to remove columns that begin with 'FL_'"
   ]
  },
  {
   "cell_type": "code",
   "execution_count": 14,
   "metadata": {},
   "outputs": [],
   "source": [
    "def remove_flag_columns(merged_data):\n",
    "    \"\"\"\n",
    "    Return dataframe with flag columns removed\n",
    "\n",
    "    param dataframe merged_data: merged_data\n",
    "    \"\"\"\n",
    "    flag_columns = [column for column in merged_data.columns.tolist() if column.split('_')[0] == 'FL']\n",
    "    merged_data.drop(columns=flag_columns, inplace=True)\n",
    "    return merged_data"
   ]
  },
  {
   "cell_type": "code",
   "execution_count": 15,
   "metadata": {},
   "outputs": [
    {
     "name": "stdout",
     "output_type": "stream",
     "text": [
      "merged_data: (18465, 456)\n"
     ]
    }
   ],
   "source": [
    "merged_data = remove_flag_columns(merged_data)\n",
    "print('merged_data:', merged_data.shape)"
   ]
  },
  {
   "cell_type": "markdown",
   "metadata": {},
   "source": [
    "# Identify NA values"
   ]
  },
  {
   "cell_type": "markdown",
   "metadata": {},
   "source": [
    "According to documentation, there are multiple types of flagged values.\n",
    "- -1: missing data\n",
    "- -2: non-applicable data\n",
    "- -9, -3, -4: low quality data\n",
    "\n",
    "I decided to change missing and low quality values to na and change non-applicable data to 0."
   ]
  },
  {
   "cell_type": "code",
   "execution_count": 16,
   "metadata": {},
   "outputs": [],
   "source": [
    "def encode_missing_values(raw_data):\n",
    "    \"\"\"\n",
    "    Return dataframe with missing and non applicable values re-encoded as NA and 0\n",
    "\n",
    "    param DataFrame raw_data: dataframe without re-encoded missing and non applicable values\n",
    "    \"\"\"\n",
    "    reencoded_data = raw_data.copy()\n",
    "    for column in reencoded_data.columns.tolist():\n",
    "        missing_values = reencoded_data[column].apply(lambda x: x in ['-1', '-1.0', '-1.00', 'M'] or pd.isnull(x))\n",
    "        non_applicable_values = reencoded_data[column].apply(lambda x: x in ['-2', '-2.0', '-2.00', 'N'])\n",
    "        low_quality_values = reencoded_data[column].apply(lambda x: x in ['-9', '-9.0', '-9.00', '-3', '-3.0', '-3.00', '-4', '-4.0', '-4.00'])\n",
    "\n",
    "        reencoded_data.loc[missing_values, column] = np.nan\n",
    "        reencoded_data.loc[non_applicable_values, column] = '0'\n",
    "        reencoded_data.loc[low_quality_values, column] = np.nan\n",
    "\n",
    "    return reencoded_data"
   ]
  },
  {
   "cell_type": "code",
   "execution_count": 17,
   "metadata": {},
   "outputs": [
    {
     "name": "stdout",
     "output_type": "stream",
     "text": [
      "missing values before: 358416\n",
      "missing values after: 493470\n"
     ]
    }
   ],
   "source": [
    "print('missing values before:', pd.isnull(merged_data).sum().sum())\n",
    "merged_data = encode_missing_values(merged_data)\n",
    "print('missing values after:', pd.isnull(merged_data).sum().sum())"
   ]
  },
  {
   "cell_type": "code",
   "execution_count": 18,
   "metadata": {},
   "outputs": [],
   "source": [
    "# Save missing value counts of every column into outputs folder\n",
    "pd.isnull(merged_data).sum().to_csv('output/missing_values.csv', index=True)"
   ]
  },
  {
   "cell_type": "markdown",
   "metadata": {},
   "source": [
    "# Create column to represent whether school district is still operational in 5 years"
   ]
  },
  {
   "cell_type": "markdown",
   "metadata": {},
   "source": [
    "The objective is to predict whether school district will still be operational in 5 years.\n",
    "\n",
    "I created a column within the data frame to represent whether the school district is still operational in 5 years. To do that, I found school districts in the 2009-2010 universe file that were not found in the 2014-2015 membership file and marked them as being no longer operational. In addition, there are columns representing whether the school district is currently operational ('BOUND09 for 2009-2010 and 'SY_STATUS' for 2014-2015), and I marked school districts that are currently not operational as not being operational in five years as well."
   ]
  },
  {
   "cell_type": "code",
   "execution_count": 19,
   "metadata": {},
   "outputs": [],
   "source": [
    "def calc_five_years_operational(merged_data, directory_data):\n",
    "    \"\"\"\n",
    "    Return pandas dataframe of wrangled dataframe\n",
    "\n",
    "    param dataframe merged_data: dataframe of merged data\n",
    "    param dataframe directory_data: dataframe with all school districts in 2015\n",
    "    \"\"\"\n",
    "    \n",
    "    merged_data = merged_data[merged_data['BOUND09'] != '2']\n",
    "    \n",
    "    def condition1_generate(x):\n",
    "        \"\"\"\n",
    "        Return boolean of whether school district exists in 5 years\n",
    "\n",
    "        param string x: LEAID of school district to check\n",
    "        \"\"\"\n",
    "        condition1 = x in directory_data['LEAID'].values\n",
    "        if condition1:\n",
    "            condition1 = directory_data.loc[directory_data['LEAID']==x, 'SY_STATUS'].values != '2'\n",
    "        return condition1\n",
    "\n",
    "    condition1 = merged_data['LEAID'].apply(condition1_generate)\n",
    "    condition2 = merged_data['BOUND09'].apply(lambda x: x != '2')\n",
    "    merged_data['exist_five_years'] = condition1 & condition2\n",
    "    return merged_data"
   ]
  },
  {
   "cell_type": "code",
   "execution_count": 20,
   "metadata": {},
   "outputs": [
    {
     "name": "stdout",
     "output_type": "stream",
     "text": [
      "wrangled_data: (18167, 457)\n"
     ]
    },
    {
     "name": "stderr",
     "output_type": "stream",
     "text": [
      "/Users/AlbertLee/anaconda3/lib/python3.6/site-packages/ipykernel_launcher.py:24: SettingWithCopyWarning: \n",
      "A value is trying to be set on a copy of a slice from a DataFrame.\n",
      "Try using .loc[row_indexer,col_indexer] = value instead\n",
      "\n",
      "See the caveats in the documentation: http://pandas.pydata.org/pandas-docs/stable/indexing.html#indexing-view-versus-copy\n"
     ]
    }
   ],
   "source": [
    "wrangled_data = calc_five_years_operational(merged_data, directory_data)\n",
    "print('wrangled_data:', wrangled_data.shape)"
   ]
  },
  {
   "cell_type": "code",
   "execution_count": 21,
   "metadata": {},
   "outputs": [],
   "source": [
    "# Save wrangled_data into outputs folder\n",
    "wrangled_data.to_csv('output/wrangled_data.csv', index=False)"
   ]
  },
  {
   "cell_type": "markdown",
   "metadata": {},
   "source": [
    "# Select Features"
   ]
  },
  {
   "cell_type": "markdown",
   "metadata": {},
   "source": [
    "There are currently over 450 columns in the dataset. Before proceeding, I selected 30 features to focus on for the analysis based on the following criteria:\n",
    "- Missing Values: Features should not have too many missing values. I only included columns with less than 1500 missing values.\n",
    "- Data Leakage: Data should be available at the time of collection and not come from future. I did not choose columns that will lead to data leakage.\n",
    "- Availability in current dataset: Not all columns in 2009-2010 are still collected by NCES. I only included columns that are still available in the most current common core data.\n",
    "- Non-Identifier: There are multiple columns that can be used as identifiers (such as 'LEAID' and 'CENSUSID'). These will not be good features to use for the analysis.\n",
    "\n",
    "The links to documentation for each dataset is located below:\n",
    "- [Universe - District Level - 2009-2010](https://nces.ed.gov/ccd/pdf/pau092agen.pdf)\n",
    "- [Universe - School Level - 2009-2010](https://nces.ed.gov/ccd/pdf/INsc90102a.pdf)\n",
    "- [Universe Membership - District Level - 2014-2015](https://nces.ed.gov/ccd/pdf/2016077_Documentation_062916.pdf)\n",
    "- [Universe Directory - District Level - 2014-2015](https://nces.ed.gov/ccd/pdf/2016077_Documentation_062916.pdf)\n",
    "- [Finance - District Level - 2009-2010](https://nces.ed.gov/ccd/pdf/sdf101agen.pdf)\n",
    "- [Dropout - District Level - 2009-2010](https://nces.ed.gov/ccd/data/zip/2015090_LEA_PU.zip)\n",
    "- [Universe - District Level - 2014-2015](https://nces.ed.gov/ccd/pdf/2016077_Documentation_062916.pdf)\n",
    "- [Universe - School Level - 2014-2015](https://nces.ed.gov/ccd/pdf/2016077_Documentation_062916.pdf)\n",
    "- [Finance - District Level - 2013-2014](https://nces.ed.gov/ccd/data/zip/2016304_F-33_documentation.zip)"
   ]
  },
  {
   "cell_type": "code",
   "execution_count": 22,
   "metadata": {},
   "outputs": [
    {
     "name": "stdout",
     "output_type": "stream",
     "text": [
      "(438, 2)\n"
     ]
    }
   ],
   "source": [
    "# Read list of columns and counts of missing vales\n",
    "missing_values = pd.read_csv('output/missing_values.csv', names=['column', 'missing_values'])\n",
    "# remove identifier columns\n",
    "identifiers = load_columns('identifier')\n",
    "missing_values = missing_values[missing_values['column'].apply(lambda x: x not in identifiers)]\n",
    "print(missing_values.shape)"
   ]
  },
  {
   "cell_type": "code",
   "execution_count": 23,
   "metadata": {},
   "outputs": [
    {
     "name": "stdout",
     "output_type": "stream",
     "text": [
      "(40, 2)\n"
     ]
    }
   ],
   "source": [
    "# Select columns with fewer than 250 missing values\n",
    "missing_values = missing_values[missing_values['missing_values'] < 250]\n",
    "print(missing_values.shape)"
   ]
  },
  {
   "cell_type": "code",
   "execution_count": 24,
   "metadata": {},
   "outputs": [
    {
     "name": "stdout",
     "output_type": "stream",
     "text": [
      "         column  missing_values\n",
      "2       FIPST_x             218\n",
      "7        STNAME             218\n",
      "8        STABBR             218\n",
      "9        SCHLEV             218\n",
      "10       AGCHRT             218\n",
      "11         YEAR             218\n",
      "12        CCDNF             218\n",
      "13      CENFILE             218\n",
      "14         GSLO             218\n",
      "15         GSHI             218\n",
      "17    MEMBERSCH             242\n",
      "141      WEIGHT             218\n",
      "142    SURVYEAR              26\n",
      "143     FIPST_y              26\n",
      "145      EBS912             241\n",
      "148       AFGEB             242\n",
      "151       FIPST              26\n",
      "152      STID09              26\n",
      "153      NAME09              26\n",
      "157    MSTATE09              26\n",
      "162    LSTATE09              26\n",
      "165      TYPE09              26\n",
      "167     CONUM09              28\n",
      "169       CSA09              28\n",
      "170      CBSA09              28\n",
      "171    METMIC09              28\n",
      "172    ULOCAL09              28\n",
      "176     BOUND09              26\n",
      "177      BIEA09              26\n",
      "178      GSLO09              26\n",
      "179      GSHI09              26\n",
      "180    AGCHRT09              26\n",
      "181       SCH09              26\n",
      "182      UG09_x              44\n",
      "183      PK1209              62\n",
      "184  MEMBER09_x              54\n",
      "185    SPECED09              56\n",
      "186       ELL09             242\n",
      "197    OTHGUI09             242\n",
      "207   RACECAT09              26\n"
     ]
    }
   ],
   "source": [
    "print(missing_values)"
   ]
  },
  {
   "cell_type": "markdown",
   "metadata": {},
   "source": [
    "The columns I selected with less than 250 missing values are:\n",
    "- state name, categorical, STNAME: Public education is managed at the state level, and different states could have different outcomes.\n",
    "- lowest grade offered in 2009-2010, ordinal, GSLO09: School districts offering different grade levels may have different risks\n",
    "- highest grade offered in 2009-2010, ordinal, GSHI09: School districts offering different grade levels may have different risks\n",
    "- total students, numerical (integer), MEMBERSCH: School districts with more students have highest financial needs\n",
    "- micropolitan or metropolitan area, categorical, METMIC09: School districts in rural areas may have different risks than school districts in urban areas\n",
    "- whether school district works with Bureau of Indian Education, boolean, BIEA09: School districts operated by Native American Indians may have different outcomes\n",
    "- none, some, or all schools in school districts are charter schools, categorical, AGCHRT09: School districts working with charter schools may have different outcomes.\n",
    "- number of schools in school districts, numerical (integer), SCH09: School districts with more schools may have more complex operations\n",
    "- number of students in english language learning programs, numerical (integer), ELL09: students who are learning english as a new language may have different educational objectives\n",
    "\n",
    "The following columns also might have been useful, but are not available in the most current data files:\n",
    "- number of students with disabilities, numerical (integer), SPECED09: students who have disabilities may have different educational objectives\n",
    "- number of students with standard grade designations, numerical (integer), PK1209: students who don't have standard grade designations may have different educational objectives\n",
    "- number of students without standard grade designations, numerical (integer), UG09: students who don't have standard grade designations may have different educational objectives\n",
    "- areas location relative to closest urban cluster, categorical, ULOCAL09: School districts in rural areas may have different risks than school districts in urban areas"
   ]
  },
  {
   "cell_type": "code",
   "execution_count": 25,
   "metadata": {},
   "outputs": [
    {
     "name": "stdout",
     "output_type": "stream",
     "text": [
      "(438, 2)\n"
     ]
    }
   ],
   "source": [
    "# Read list of columns and counts of missing vales\n",
    "missing_values = pd.read_csv('output/missing_values.csv', names=['column', 'missing_values'])\n",
    "# remove identifier columns\n",
    "identifiers = load_columns('identifier')\n",
    "missing_values = missing_values[missing_values['column'].apply(lambda x: x not in identifiers)]\n",
    "print(missing_values.shape)"
   ]
  },
  {
   "cell_type": "code",
   "execution_count": 26,
   "metadata": {},
   "outputs": [
    {
     "name": "stdout",
     "output_type": "stream",
     "text": [
      "(15, 2)\n"
     ]
    }
   ],
   "source": [
    "# Select columns with more than 250 missing values and less than 800 missing values\n",
    "missing_values = missing_values[(missing_values['missing_values'] >= 250) & (missing_values['missing_values'] < 800)]\n",
    "print(missing_values.shape)"
   ]
  },
  {
   "cell_type": "code",
   "execution_count": 27,
   "metadata": {},
   "outputs": [
    {
     "name": "stdout",
     "output_type": "stream",
     "text": [
      "       column  missing_values\n",
      "16        V33             398\n",
      "48        T02             255\n",
      "49        T06             299\n",
      "50        T09             299\n",
      "51        T15             299\n",
      "52        T40             299\n",
      "53        T99             299\n",
      "150    TOTOHC             452\n",
      "189  ELMTCH09             448\n",
      "190  SECTCH09             448\n",
      "191   UGTCH09             250\n",
      "192  TOTTCH09             391\n",
      "201  LEAADM09             256\n",
      "203  SCHADM09             256\n",
      "205  STUSUP09             536\n"
     ]
    }
   ],
   "source": [
    "print(missing_values)"
   ]
  },
  {
   "cell_type": "markdown",
   "metadata": {},
   "source": [
    "The columns I selected with more than 250 missing values and less than 800 missing values are:\n",
    "- local revenue from parent/government contributions, numeric, T02: Amount of local revenue may effect educational outcomes\n",
    "- local revenue from property taxes, numeric, T06: Amount of local revenue may effect educational outcomes\n",
    "- local revenue from general sales tax, numeric, T09: Amount of local revenue may effect educational outcomes\n",
    "- local revenue from public utilities tax, numeric, T15: Amount of local revenue may effect educational outcomes\n",
    "- local revenue from individual/corporate income tax, numeric, T40: Amount of local revenue may effect educational outcomes\n",
    "- local revenue from other taxes, numeric, T99: Amount of local revenue may effect educational outcomes\n",
    "- elementary school teachers, numeric, ELMTCH09: Number of teachers may effect educational outcomes\n",
    "- secondary school teachers, numeric, SECTCH09: Number of teachers may effect educational outcomes\n",
    "- teachers in programs without standard grade designations, numeric, UGTCH09: Number of teachers may effect educational outcomes\n",
    "- total teachers, numeric, TOTTCH09: Number of teachers may effect educational outcomes\n",
    "- total school district administrators, numeric, LEAADM09: Number of administrators may effect educational outcomes\n",
    "- total school administrators, numeric, SCHADM09: Number of administrators may effect educational outcomes\n",
    "- total student support staff, numeric, STUSUP09: Number of support staff may effect educational outcomes\n",
    "\n",
    "The following columns also might have been useful, but are not available in the most current data files:\n",
    "- Total Other High School Completion Certificate (OHC) Recipients, numeric (integer), TOTOHC: Students who received certification besides a diploma may have different educational objectives"
   ]
  },
  {
   "cell_type": "code",
   "execution_count": 28,
   "metadata": {},
   "outputs": [
    {
     "name": "stdout",
     "output_type": "stream",
     "text": [
      "(438, 2)\n"
     ]
    }
   ],
   "source": [
    "# Read list of columns and counts of missing vales\n",
    "missing_values = pd.read_csv('output/missing_values.csv', names=['column', 'missing_values'])\n",
    "# remove identifier columns\n",
    "identifiers = load_columns('identifier')\n",
    "missing_values = missing_values[missing_values['column'].apply(lambda x: x not in identifiers)]\n",
    "print(missing_values.shape)"
   ]
  },
  {
   "cell_type": "code",
   "execution_count": 29,
   "metadata": {},
   "outputs": [
    {
     "name": "stdout",
     "output_type": "stream",
     "text": [
      "(368, 2)\n"
     ]
    }
   ],
   "source": [
    "# Select columns with more than 800 missing values and less than 1500 missing values\n",
    "missing_values = missing_values[(missing_values['missing_values'] >= 800) & (missing_values['missing_values'] < 1500)]\n",
    "print(missing_values.shape)"
   ]
  },
  {
   "cell_type": "code",
   "execution_count": 30,
   "metadata": {},
   "outputs": [
    {
     "name": "stdout",
     "output_type": "stream",
     "text": [
      "column : missing values\n",
      "TOTALREV : 855\n",
      "TFEDREV : 855\n",
      "C14 : 855\n",
      "C15 : 855\n",
      "C16 : 855\n",
      "C17 : 855\n",
      "C19 : 855\n",
      "B11 : 855\n",
      "C20 : 855\n",
      "C25 : 855\n",
      "C36 : 855\n",
      "B10 : 855\n",
      "B12 : 855\n",
      "B13 : 855\n",
      "TSTREV : 855\n",
      "C01 : 855\n",
      "C04 : 855\n",
      "C05 : 855\n",
      "C06 : 855\n",
      "C07 : 855\n",
      "C08 : 855\n",
      "C09 : 855\n",
      "C10 : 855\n",
      "C11 : 855\n",
      "C12 : 855\n",
      "C13 : 855\n",
      "C35 : 855\n",
      "C38 : 855\n",
      "C39 : 855\n",
      "TLOCREV : 855\n",
      "D11 : 855\n",
      "D23 : 855\n",
      "A07 : 855\n",
      "A08 : 855\n",
      "A09 : 855\n",
      "A11 : 855\n",
      "A13 : 855\n",
      "A15 : 855\n",
      "A20 : 855\n",
      "A40 : 855\n",
      "U11 : 855\n",
      "U22 : 855\n",
      "U30 : 855\n",
      "U50 : 855\n",
      "U97 : 855\n",
      "C24 : 855\n",
      "TOTALEXP : 855\n",
      "TCURELSC : 855\n",
      "TCURINST : 855\n",
      "E13 : 855\n",
      "V91 : 855\n",
      "V92 : 855\n",
      "TCURSSVC : 855\n",
      "E17 : 855\n",
      "E07 : 855\n",
      "E08 : 855\n",
      "E09 : 855\n",
      "V40 : 855\n",
      "V45 : 855\n",
      "V90 : 855\n",
      "V85 : 855\n",
      "TCUROTH : 855\n",
      "E11 : 855\n",
      "V60 : 855\n",
      "V65 : 855\n",
      "TNONELSE : 855\n",
      "V70 : 855\n",
      "V75 : 855\n",
      "V80 : 855\n",
      "TCAPOUT : 855\n",
      "F12 : 855\n",
      "G15 : 855\n",
      "K09 : 855\n",
      "K10 : 855\n",
      "K11 : 855\n",
      "L12 : 855\n",
      "M12 : 855\n",
      "Q11 : 855\n",
      "I86 : 855\n",
      "Z32 : 855\n",
      "Z33 : 855\n",
      "Z35 : 855\n",
      "Z36 : 855\n",
      "Z37 : 855\n",
      "Z38 : 855\n",
      "V11 : 855\n",
      "V13 : 855\n",
      "V15 : 855\n",
      "V17 : 855\n",
      "V21 : 855\n",
      "V23 : 855\n",
      "V37 : 855\n",
      "V29 : 855\n",
      "Z34 : 855\n",
      "V10 : 855\n",
      "V12 : 855\n",
      "V14 : 855\n",
      "V16 : 855\n",
      "V18 : 855\n",
      "V22 : 855\n",
      "V24 : 855\n",
      "V38 : 855\n",
      "V30 : 855\n",
      "V32 : 855\n",
      "V93 : 855\n",
      "_19H : 855\n",
      "_21F : 855\n",
      "_31F : 855\n",
      "_41F : 855\n",
      "_61V : 855\n",
      "_66V : 855\n",
      "W01 : 855\n",
      "W31 : 855\n",
      "W61 : 855\n",
      "HR1 : 855\n",
      "HE1 : 855\n",
      "HE2 : 855\n",
      "TOTDPL : 1244\n",
      "AFGR : 1207\n",
      "LIBSPE09 : 1446\n",
      "PK09 : 1288\n",
      "AMPKM09 : 1288\n",
      "AMPKF09 : 1288\n",
      "ASPKM09 : 1288\n",
      "ASPKF09 : 1288\n",
      "HIPKM09 : 1288\n",
      "HIPKF09 : 1288\n",
      "BLPKM09 : 1288\n",
      "BLPKF09 : 1288\n",
      "WHPKM09 : 1288\n",
      "WHPKF09 : 1288\n",
      "HPPKM09 : 1288\n",
      "HPPKF09 : 1288\n",
      "TRPKM09 : 1288\n",
      "TRPKF09 : 1288\n",
      "KG09 : 1288\n",
      "AMKGM09 : 1288\n",
      "AMKGF09 : 1288\n",
      "ASKGM09 : 1288\n",
      "ASKGF09 : 1288\n",
      "HIKGM09 : 1288\n",
      "HIKGF09 : 1288\n",
      "BLKGM09 : 1288\n",
      "BLKGF09 : 1288\n",
      "WHKGM09 : 1288\n",
      "WHKGF09 : 1288\n",
      "HPKGM09 : 1288\n",
      "HPKGF09 : 1288\n",
      "TRKGM09 : 1288\n",
      "TRKGF09 : 1288\n",
      "G0109 : 1288\n",
      "AM01M09 : 1288\n",
      "AM01F09 : 1288\n",
      "AS01M09 : 1288\n",
      "AS01F09 : 1288\n",
      "HI01M09 : 1288\n",
      "HI01F09 : 1288\n",
      "BL01M09 : 1288\n",
      "BL01F09 : 1288\n",
      "WH01M09 : 1288\n",
      "WH01F09 : 1288\n",
      "HP01M09 : 1288\n",
      "HP01F09 : 1288\n",
      "TR01M09 : 1288\n",
      "TR01F09 : 1288\n",
      "G0209 : 1288\n",
      "AM02M09 : 1288\n",
      "AM02F09 : 1288\n",
      "AS02M09 : 1288\n",
      "AS02F09 : 1288\n",
      "HI02M09 : 1288\n",
      "HI02F09 : 1288\n",
      "BL02M09 : 1288\n",
      "BL02F09 : 1288\n",
      "WH02M09 : 1288\n",
      "WH02F09 : 1288\n",
      "HP02M09 : 1288\n",
      "HP02F09 : 1288\n",
      "TR02M09 : 1288\n",
      "TR02F09 : 1288\n",
      "G0309 : 1288\n",
      "AM03M09 : 1288\n",
      "AM03F09 : 1288\n",
      "AS03M09 : 1288\n",
      "AS03F09 : 1288\n",
      "HI03M09 : 1288\n",
      "HI03F09 : 1288\n",
      "BL03M09 : 1288\n",
      "BL03F09 : 1288\n",
      "WH03M09 : 1288\n",
      "WH03F09 : 1288\n",
      "HP03M09 : 1288\n",
      "HP03F09 : 1288\n",
      "TR03M09 : 1288\n",
      "TR03F09 : 1288\n",
      "G0409 : 1288\n",
      "AM04M09 : 1288\n",
      "AM04F09 : 1288\n",
      "AS04M09 : 1288\n",
      "AS04F09 : 1288\n",
      "HI04M09 : 1288\n",
      "HI04F09 : 1288\n",
      "BL04M09 : 1288\n",
      "BL04F09 : 1288\n",
      "WH04M09 : 1288\n",
      "WH04F09 : 1288\n",
      "HP04M09 : 1288\n",
      "HP04F09 : 1288\n",
      "TR04M09 : 1288\n",
      "TR04F09 : 1288\n",
      "G0509 : 1288\n",
      "AM05M09 : 1288\n",
      "AM05F09 : 1288\n",
      "AS05M09 : 1288\n",
      "AS05F09 : 1288\n",
      "HI05M09 : 1288\n",
      "HI05F09 : 1288\n",
      "BL05M09 : 1288\n",
      "BL05F09 : 1288\n",
      "WH05M09 : 1288\n",
      "WH05F09 : 1288\n",
      "HP05M09 : 1288\n",
      "HP05F09 : 1288\n",
      "TR05M09 : 1288\n",
      "TR05F09 : 1288\n",
      "G0609 : 1288\n",
      "AM06M09 : 1288\n",
      "AM06F09 : 1288\n",
      "AS06M09 : 1288\n",
      "AS06F09 : 1288\n",
      "HI06M09 : 1288\n",
      "HI06F09 : 1288\n",
      "BL06M09 : 1288\n",
      "BL06F09 : 1288\n",
      "WH06M09 : 1288\n",
      "WH06F09 : 1288\n",
      "HP06M09 : 1288\n",
      "HP06F09 : 1288\n",
      "TR06M09 : 1288\n",
      "TR06F09 : 1288\n",
      "G0709 : 1288\n",
      "AM07M09 : 1288\n",
      "AM07F09 : 1288\n",
      "AS07M09 : 1288\n",
      "AS07F09 : 1288\n",
      "HI07M09 : 1288\n",
      "HI07F09 : 1288\n",
      "BL07M09 : 1288\n",
      "BL07F09 : 1288\n",
      "WH07M09 : 1288\n",
      "WH07F09 : 1288\n",
      "HP07M09 : 1288\n",
      "HP07F09 : 1288\n",
      "TR07M09 : 1288\n",
      "TR07F09 : 1288\n",
      "G0809 : 1288\n",
      "AM08M09 : 1288\n",
      "AM08F09 : 1288\n",
      "AS08M09 : 1288\n",
      "AS08F09 : 1288\n",
      "HI08M09 : 1288\n",
      "HI08F09 : 1288\n",
      "BL08M09 : 1288\n",
      "BL08F09 : 1288\n",
      "WH08M09 : 1288\n",
      "WH08F09 : 1288\n",
      "HP08M09 : 1288\n",
      "HP08F09 : 1288\n",
      "TR08M09 : 1288\n",
      "TR08F09 : 1288\n",
      "G0909 : 1288\n",
      "AM09M09 : 1288\n",
      "AM09F09 : 1288\n",
      "AS09M09 : 1288\n",
      "AS09F09 : 1288\n",
      "HI09M09 : 1288\n",
      "HI09F09 : 1288\n",
      "BL09M09 : 1288\n",
      "BL09F09 : 1288\n",
      "WH09M09 : 1288\n",
      "WH09F09 : 1288\n",
      "HP09M09 : 1288\n",
      "HP09F09 : 1288\n",
      "TR09M09 : 1288\n",
      "TR09F09 : 1288\n",
      "G1009 : 1288\n",
      "AM10M09 : 1288\n",
      "AM10F09 : 1288\n",
      "AS10M09 : 1288\n",
      "AS10F09 : 1288\n",
      "HI10M09 : 1288\n",
      "HI10F09 : 1288\n",
      "BL10M09 : 1288\n",
      "BL10F09 : 1288\n",
      "WH10M09 : 1288\n",
      "WH10F09 : 1288\n",
      "HP10M09 : 1288\n",
      "HP10F09 : 1288\n",
      "TR10M09 : 1288\n",
      "TR10F09 : 1288\n",
      "G1109 : 1288\n",
      "AM11M09 : 1288\n",
      "AM11F09 : 1288\n",
      "AS11M09 : 1288\n",
      "AS11F09 : 1288\n",
      "HI11M09 : 1288\n",
      "HI11F09 : 1288\n",
      "BL11M09 : 1288\n",
      "BL11F09 : 1288\n",
      "WH11M09 : 1288\n",
      "WH11F09 : 1288\n",
      "HP11M09 : 1288\n",
      "HP11F09 : 1288\n",
      "TR11M09 : 1288\n",
      "TR11F09 : 1288\n",
      "G1209 : 1288\n",
      "AM12M09 : 1288\n",
      "AM12F09 : 1288\n",
      "AS12M09 : 1288\n",
      "AS12F09 : 1288\n",
      "HI12M09 : 1288\n",
      "HI12F09 : 1288\n",
      "BL12M09 : 1288\n",
      "BL12F09 : 1288\n",
      "WH12M09 : 1288\n",
      "WH12F09 : 1288\n",
      "HP12M09 : 1288\n",
      "HP12F09 : 1288\n",
      "TR12M09 : 1288\n",
      "TR12F09 : 1288\n",
      "UG09_y : 1288\n",
      "AMUGM09 : 1288\n",
      "AMUGF09 : 1288\n",
      "ASUGM09 : 1288\n",
      "ASUGF09 : 1288\n",
      "HIUGM09 : 1288\n",
      "HIUGF09 : 1288\n",
      "BLUGM09 : 1288\n",
      "BLUGF09 : 1288\n",
      "WHUGM09 : 1288\n",
      "WHUGF09 : 1288\n",
      "HPUGM09 : 1288\n",
      "HPUGF09 : 1288\n",
      "TRUGM09 : 1288\n",
      "TRUGF09 : 1288\n",
      "MEMBER09_y : 1288\n",
      "AM09 : 1288\n",
      "AMALM09 : 1288\n",
      "AMALF09 : 1288\n",
      "ASIAN09 : 1288\n",
      "ASALM09 : 1288\n",
      "ASALF09 : 1288\n",
      "HISP09 : 1288\n",
      "HIALM09 : 1288\n",
      "HIALF09 : 1288\n",
      "BLACK09 : 1288\n",
      "BLALM09 : 1288\n",
      "BLALF09 : 1288\n",
      "WHITE09 : 1288\n",
      "WHALM09 : 1288\n",
      "WHALF09 : 1288\n",
      "PACIFIC09 : 1288\n",
      "HPALM09 : 1288\n",
      "HPALF09 : 1288\n",
      "TR09 : 1288\n",
      "TRALM09 : 1288\n",
      "TRALF09 : 1288\n",
      "TOTETH09 : 1288\n"
     ]
    }
   ],
   "source": [
    "print('column : missing values')\n",
    "for index, row in missing_values.iterrows():\n",
    "    print(row['column'], ':', row['missing_values'])"
   ]
  },
  {
   "cell_type": "markdown",
   "metadata": {},
   "source": [
    "The columns I selected with between 800 and 1500 missing values are:\n",
    "- Total revenue, numeric, TOTALREV: Amount of revenue may effect educational outcomes\n",
    "- Total federal revenue, numeric, TFEDREV: Amount of revenue may effect educational outcomes\n",
    "- FEDERAL REVENUE THRU STATE TITLE I, numeric, C14: Amount of revenue may effect educational outcomes\n",
    "- FEDERAL REVENUE THRU STATE INDIVIDUALS WITH DISABILITIES EDUCATION ACT (IDEA) , numeric, C15: Amount of revenue may effect educational outcomes\n",
    "- FEDERAL REVENUE THRU STATE MATH SCIENCE AND TEACHER QUALITY, numeric, C16: Amount of revenue may effect educational outcomes\n",
    "- FEDERAL REVENUE THRU STATE SAFE AND DRUG FREE SCHOOLS, numeric, C17: Amount of revenue may effect educational outcomes\n",
    "- FEDERAL REVENUE THRU STATE VOCATIONAL AND TECH EDUCATION, numeric, C19: Amount of revenue may effect educational outcomes\n",
    "- FEDERAL REVENUE DIRECT IMPACT AID, numeric, B10: Amount of revenue may effect educational outcomes\n",
    "- FEDERAL REVENUE DIRECT INDIAN EDUCATION, numeric, B12: Amount of revenue may effect educational outcomes\n",
    "- FEDERAL REVENUE DIRECT OTHER, numeric, B13: Amount of revenue may effect educational outcomes\n",
    "- total state revenue, numeric, TSTREV: Amount of revenue may effect educational outcomes\n",
    "- STATE REVENUE GENERAL FORMULA ASSISTANCE, numeric, C01: Amount of revenue may effect educational outcomes\n",
    "- STATE REVENUE STAFF IMPROVEMENT PROGRAMS, numeric, C04: Amount of revenue may effect educational outcomes\n",
    "- STATE REVENUE SPECIAL EDUCATION PROGRAMS, numeric, C05: Amount of revenue may effect educational outcomes\n",
    "- STATE REVENUE COMPENSATORY AND BASIC SKILLS PROGRAMS, numeric, C06: Amount of revenue may effect educational outcomes\n",
    "- STATE REVENUE BILINGUAL EDUCATION PROGRAMS, numeric, C07: Amount of revenue may effect educational outcomes\n",
    "- STATE REVENUE GIFTED AND TALENTED PROGRAMS, numeric, C08: Amount of revenue may effect educational outcomes\n",
    "- STATE REVENUE VOCATIONAL EDUCATION PROGRAMS, numeric, C09: Amount of revenue may effect educational outcomes\n",
    "- STATE REVENUE SCHOOL LUNCH PROGRAMS, numeric, C10: Amount of revenue may effect educational outcomes\n",
    "- STATE REVENUE CAPITAL OUTLAY AND DEBT SERVICES PROGRAMS, numeric, C11: Amount of revenue may effect educational outcomes\n",
    "- STATE REVENUE TRANSPORTATION PROGRAMS, numeric, C12: Amount of revenue may effect educational outcomes\n",
    "- STATE REVENUE OTHER PROGRAMS, numeric, C13: Amount of revenue may effect educational outcomes\n",
    "- STATE REVENUE NONSPECIFIED, numeric, C35: Amount of revenue may effect educational outcomes\n",
    "- STATE REVENUE ON BEHALF EMPLOYEE BENEFITS, numeric, C38: Amount of revenue may effect educational outcomes\n",
    "- STATE REVENUE ON BEHALF NOT EMPLOYEE BENEFITS, numeric, C39: Amount of revenue may effect educational outcomes\n",
    "- total local revenue, numeric, TLOCREV: Amount of revenue may effect educational outcomes\n",
    "- LOCAL REVENUE FROM OTHER SCHOOL SYSTEMS, numeric, D11: Amount of revenue may effect educational outcomes\n",
    "- LOCAL REVENUE FROM CITIES AND COUNTIES, numeric, D23: Amount of revenue may effect educational outcomes\n",
    "- LOCAL REVENUE TUITION FEES FROM PUPILS AND PARENTS, numeric, A07: Amount of revenue may effect educational outcomes\n",
    "- LOCAL REVENUE TRANSPORTATION FEES FROM PUPILS AND PARENTS, numeric, A08: Amount of revenue may effect educational outcomes\n",
    "- LOCAL REVENUE SCHOOL LUNCH, numeric, A09: Amount of revenue may effect educational outcomes\n",
    "- LOCAL REVENUE TEXTBOOK SALES AND RENTALS, numeric, A11: Amount of revenue may effect educational outcomes\n",
    "- LOCAL REVENUE DISTRICT ACTIVITY RECEIPTS, numeric, A13: Amount of revenue may effect educational outcomes\n",
    "- LOCAL REVENUE STUDENTS FEES NONSPECIFIED, numeric, A15: Amount of revenue may effect educational outcomes\n",
    "- LOCAL REVENUE OTHER SALES AND SERVICES, numeric, A20: Amount of revenue may effect educational outcomes\n",
    "- LOCAL REVENUE RENTS AND ROYALTIES, numeric, A40: Amount of revenue may effect educational outcomes\n",
    "- LOCAL REVENUE SALE OF PROPERTY, numeric, U11: Amount of revenue may effect educational outcomes\n",
    "- LOCAL REVENUE INTEREST EARNINGS, numeric, U22: Amount of revenue may effect educational outcomes\n",
    "- LOCAL REVENUE FINES AND FORFEITS, numeric, U30: Amount of revenue may effect educational outcomes\n",
    "- LOCAL REVENUE PRIVATE CONTRIBUTIONS, numeric, U50: Amount of revenue may effect educational outcomes\n",
    "- LOCAL REVENUE MISCELLANEOUS, numeric, U97: Amount of revenue may effect educational outcomes\n",
    "- NCES LOCAL REVENUE CENSUS BUREAU STATE REVENUE, numeric, C24: Amount of revenue may effect educational outcomes\n",
    "- TOTAL EXPENDITURES, numeric, TOTALEXP: Amount of expenditures may effect educational outcomes\n",
    "- TOTAL CURRENT EXPENDITURES FOR ELEMENTARY/SECONDARY EDUCATION, numeric, TCURELSC: Amount of revenue may effect educational outcomes\n",
    "- TOTAL CURRENT EXPENDITURES INSTRUCTION, numeric, TCURINST: Amount of expenditures may effect educational outcomes\n",
    "- CURRENT EXPENDITURES INSTRUCTION, numeric, E13: Amount of expenditures may effect educational outcomes\n",
    "- PAYMENTS TO PRIVATE SCHOOLS, numeric, V91: Amount of expenditures may effect educational outcomes\n",
    "- PAYMENTS TO CHARTER SCHOOLS, numeric, V92: Amount of expenditures may effect educational outcomes\n",
    "- TOTAL CURRENT EXPENDITURES SUPPORT SERVICES, numeric, TCURSSVC: Amount of expenditures may effect educational outcomes\n",
    "- CURRENT EXPENDITURES SUPPORT SERVICES PUPILS, numeric, E17: Amount of expenditures may effect educational outcomes\n",
    "- CURRENT EXPENDITURES SUPPORT SERVICES INSTRUCTIONAL STAFF, numeric, E07: Amount of expenditures may effect educational outcomes\n",
    "- CURRENT EXPENDITURES SUPPORT SERVICES GENERAL ADMINISTRATION, numeric, E08: Amount of expenditures may effect educational outcomes\n",
    "- CURRENT EXPENDITURES SUPPORT SERVICES SCHOOL ADMINISTRATION, numeric, E09: Amount of expenditures may effect educational outcomes\n",
    "- CURRENT EXPENDITURES SUPPORT SERVICES OPERATION AND MAINTENANCE OF PLANT, numeric, V40: Amount of expenditures may effect educational outcomes\n",
    "- CURRENT EXPENDITURES SUPPORT SERVICES STUDENT TRANSPORTATION, numeric, V45: Amount of expenditures may effect educational outcomes\n",
    "- CURRENT EXPENDITURES SUPPORT SERVICES BUSINESS/CENTRAL/OTHER, numeric, V90: Amount of expenditures may effect educational outcomes\n",
    "- CURRENT EXPENDITURES SUPPORT SERVICES NONSPECIFIED, numeric, V85: Amount of expenditures may effect educational outcomes\n",
    "- TOTAL CURRENT EXPENDITURES OTHER ELEMENTARY/SECONDARY, numeric, TCUROTH: Amount of expenditures may effect educational outcomes\n",
    "- CURRENT EXPENDITURES FOOD SERVICES, numeric, E11: Amount of expenditures may effect educational outcomes\n",
    "- CURRENT EXPENDITURES ENTERPRISE OPERATIONS, numeric, V60: Amount of expenditures may effect educational outcomes\n",
    "- CURRENT EXPENDITURES OTHER ELSEC, numeric, V65: Amount of expenditures may effect educational outcomes\n",
    "- TOTAL NON-ELEMENTARY/SECONDARY EXPENDITURES, numeric, TNONELSE: Amount of expenditures may effect educational outcomes\n",
    "- NON ELEMENTARY/SECONDARY EXPENDITURES COMMUNITY SERVICES , numeric, V70: Amount of expenditures may effect educational outcomes\n",
    "- NON ELEMENTARY/SECONDARY EXPENDITURES ADULT EDUCATION, numeric, V75: Amount of expenditures may effect educational outcomes\n",
    "- NON ELEMENTARY/SECONDARY EXPENDITURES OTHER, numeric, V80: Amount of expenditures may effect educational outcomes\n",
    "- TOTAL CAPITAL OUTLAY EXPENDITURES, numeric, TCAPOUT: Amount of expenditures may effect educational outcomes\n",
    "- CAPITAL OUTLAY CONSTRUCTION, numeric, F12: Amount of expenditures may effect educational outcomes\n",
    "- CAPITAL OUTLAY LAND AND EXISTING STRUCTURES, numeric, G15: Amount of expenditures may effect educational outcomes\n",
    "- CAPITAL OUTLAY INSTRUCTIONAL EQUIPMENT, numeric, K09: Amount of expenditures may effect educational outcomes\n",
    "- CAPITAL OUTLAY OTHER EQUIPMENT, numeric, K10: Amount of expenditures may effect educational outcomes\n",
    "- CAPITAL OUTLAY NONSPECIFIED EQUIPMENT, numeric, K11: Amount of expenditures may effect educational outcomes\n",
    "- PAYMENTS TO STATE GOVERNMENTS, numeric, L12: Amount of expenditures may effect educational outcomes\n",
    "- PAYMENTS TO LOCAL GOVERNMENTS, numeric, M12: Amount of expenditures may effect educational outcomes\n",
    "- PAYMENTS TO OTHER SCHOOL SYSTEMS, numeric, Q11: Amount of expenditures may effect educational outcomes\n",
    "- INTEREST ON DEBT, numeric, I86: Amount of expenditures may effect educational outcomes\n",
    "- TOTAL SALARIES, numeric, Z32: Amount of expenditures may effect educational outcomes\n",
    "- SALARIES INSTRUCTION, numeric, Z33: Amount of expenditures may effect educational outcomes\n",
    "- TEACHER SALARIES REGULAR EDUCATION PROGRAMS, numeric, Z35: Amount of expenditures may effect educational outcomes\n",
    "- TEACHER SALARIES SPECIAL EDUCATION PROGRAMS, numeric, Z36: Amount of expenditures may effect educational outcomes\n",
    "- TEACHER SALARIES VOCATIONAL EDUCATION PROGRAMS, numeric, Z37: Amount of expenditures may effect educational outcomes\n",
    "- TEACHER SALARIES OTHER EDUCATION PROGRAMS, numeric, Z38: Amount of expenditures may effect educational outcomes\n",
    "- SALARIES SUPPORT SERVICES PUPILS, numeric, V11: Amount of expenditures may effect educational outcomes\n",
    "- SALARIES SUPPORT SERVICES INSTRUCTIONAL STAFF, numeric, V13: Amount of expenditures may effect educational outcomes\n",
    "- SALARIES SUPPORT SERVICES GENERAL ADMINISTRATION, numeric, V15: Amount of expenditures may effect educational outcomes\n",
    "- SALARIES SUPPORT SERVICES SCHOOL ADMINISTRATION, numeric, V17: Amount of expenditures may effect educational outcomes\n",
    "- SALARIES SUPPORT SERVICES OPERATION AND MAINTENANCE OF PLANT, numeric, V21: Amount of expenditures may effect educational outcomes\n",
    "- SALARIES SUPPORT SERVICES STUDENT TRANSPORTATION, numeric, V23: Amount of expenditures may effect educational outcomes\n",
    "- SALARIES SUPPORT SERVICES BUSINESS/CENTRAL/OTHER, numeric, V37: Amount of expenditures may effect educational outcomes\n",
    "- SALARIES FOOD SERVICES, numeric, V29: Amount of expenditures may effect educational outcomes\n",
    "- EMPLOYEE BENEFITS INSTRUCTION, numeric, V10: Amount of expenditures may effect educational outcomes\n",
    "- EMPLOYEE BENEFITS SUPPORT SERVICES PUPILS, numeric, V12: Amount of expenditures may effect educational outcomes\n",
    "- EMPLOYEE BENEFITS SUPPORT SERVICES INSTRUCTIONAL STAFF, numeric, V14: Amount of expenditures may effect educational outcomes\n",
    "- EMPLOYEE BENEFITS SUPPORT SERVICES GENERAL ADMINISTRATION, numeric, V16: Amount of expenditures may effect educational outcomes\n",
    "- EMPLOYEE BENEFITS SUPPORT SERVICES SCHOOL ADMINISTRATION, numeric, V18: Amount of expenditures may effect educational outcomes\n",
    "- EMPLOYEE BENEFITS SUPPORT SERVICES OPERATION AND MAINTENANCE OF PLANT, numeric, V22: Amount of expenditures may effect educational outcomes\n",
    "- EMPLOYEE BENEFITS SUPPORT SERVICES STUDENT TRANSPORTATION, numeric, V24: Amount of expenditures may effect educational outcomes\n",
    "- EMPLOYEE BENEFITS SUPPORT SERVICES BUSINESS/CENTRAL/OTHER, numeric, V38: Amount of expenditures may effect educational outcomes\n",
    "- EMPLOYEE BENEFITS FOOD SERVICES, numeric, V30: Amount of expenditures may effect educational outcomes\n",
    "- EMPLOYEE BENEFITS ENTERPRISE OPERATIONS, numeric, V32: Amount of expenditures may effect educational outcomes\n",
    "- TEXTBOOKS, numeric, V93: Amount of expenditures may effect educational outcomes\n",
    "- LONG TERM DEBT OUTSTANDING AT BEGINNING OF FISCAL YEAR, numeric, _19H: Amount of expenditures may effect educational outcomes\n",
    "- LONG TERM DEBT ISSUED DURING FISCAL YEAR, numeric, _21F: Amount of expenditures may effect educational outcomes\n",
    "- LONG TERM DEBT RETIRED DURING FISCAL YEAR, numeric, _31F: Amount of expenditures may effect educational outcomes\n",
    "- LONG TERM DEBT OUTSTANDING AT END OF FISCAL YEAR, numeric, _41F: Amount of expenditures may effect educational outcomes\n",
    "- SHORT TERM DEBT OUTSTANDING AT BEGINNING OF FISCAL YEAR, numeric, _61V: Amount of expenditures may effect educational outcomes\n",
    "- SHORT TERM DEBT OUTSTANDING AT END OF FISCAL YEAR, numeric, _66V: Amount of expenditures may effect educational outcomes\n",
    "- ASSETS SINKING FUND, numeric, W01: Amount of assets may effect educational outcomes\n",
    "- ASSETS BOND FUND, numeric, W31: Amount of assets may effect educational outcomes\n",
    "- ASSETS OTHER FUNDS, numeric, W61: Amount of assets may effect educational outcomes\n",
    "- AMERICAN RECOVERY AND REINVESTMENT ACT (ARRA) REV TITLE I, numeric, HR1: Amount of revenue may effect educational outcomes\n",
    "- CURRENT EXP AMERICAN RECOVERY AND REINVESTMENT ACT (ARRA), numeric, HE1: Amount of expenditure may effect educational outcomes\n",
    "- CAPITAL OUTLAY EXP AMERICAN RECOVERY AND REINVESTMENT ACT (ARRA), numeric, HE2: Amount of expenditure may effect educational outcomes\n",
    "- Librarians/media specialists, numeric, LIBSPE09: Number of support staff may effect educational outcomes\n",
    "- American Indian/Alaska Native students, numeric, AM09: School districts with more students have highest financial need\n",
    "- American Indian/Alaska Native male students, numeric, AMALM09: School districts with more students have highest financial need\n",
    "- American Indian/Alaska Native female students, numeric, AMALF09: School districts with more students have highest financial need\n",
    "- Asian/Hawaiian Native/Pacific Islander (5) or Asian (7) students, numeric, ASIAN09: School districts with more students have highest financial need\n",
    "- Asian/Hawaiian Native/Pacific Islander (5) or Asian (7) male students, numeric, ASALM09: School districts with more students have highest financial need\n",
    "- Asian/Hawaiian Native/Pacific Islander (5) or Asian (7)  female students, numeric, ASALF09: School districts with more students have highest financial need\n",
    "- Hispanic students, numeric, HISP09: School districts with more students have highest financial need\n",
    "- Hispanic male students, numeric, HIALM09: School districts with more students have highest financial need\n",
    "- Hispanic female students, numeric, HIALF09: School districts with more students have highest financial need\n",
    "- Black non Hispanic students, numeric, BLACK09: School districts with more students have highest financial need\n",
    "- Black non Hispanic male students, numeric, BLALM09: School districts with more students have highest financial need\n",
    "- Black non Hispanic female students, numeric, BLALF09: School districts with more students have highest financial need\n",
    "- White students, numeric, WHITE09: School districts with more students have highest financial need\n",
    "- White male students, numeric, WHALM09: School districts with more students have highest financial need\n",
    "- White female students, numeric, WHALF09: School districts with more students have highest financial need\n",
    "- Hawaiian Native/Pacific Islander students, numeric, PACIFIC09: School districts with more students have highest financial need\n",
    "- Hawaiian Native/Pacific Islander male students, numeric, HPALM09: School districts with more students have highest financial need\n",
    "- Hawaiian Native/Pacific Islander female students, numeric, HPALF09: School districts with more students have highest financial need\n",
    "- Two or more races students, numeric, TR09: School districts with more students have highest financial need\n",
    "- Two or more races male students, numeric, TRALM09: School districts with more students have highest financial need\n",
    "- Two or more races female students, numeric, TRALF09: School districts with more students have highest financial need\n",
    "\n",
    "\n",
    "The following columns also might have been useful, but are not available in the most current data files:\n",
    "- Total Diploma Count, numeric (integer), TOTDPL: Schools giving more diplomas may be at less risk\n",
    "- Total Averaged Freshmen Graduation Rate (AFGR), numeric (integer), AFGR: High graduation rates may show school district is at lower risk"
   ]
  },
  {
   "cell_type": "markdown",
   "metadata": {},
   "source": [
    "# Rename columns"
   ]
  },
  {
   "cell_type": "markdown",
   "metadata": {},
   "source": [
    "I renamed the columns using more interpretable names."
   ]
  },
  {
   "cell_type": "code",
   "execution_count": 31,
   "metadata": {},
   "outputs": [],
   "source": [
    "# create dictionaries mapping old column names to new column names\n",
    "few_missing_values_columns = {'STNAME': 'state_name', \n",
    "                              'GSLO09': 'lowest_grade', \n",
    "                              'GSHI09': 'highest_grade', \n",
    "                              'MEMBERSCH': 'total_students', \n",
    "                              'METMIC09': 'metro_micro', \n",
    "                              'BIEA09': 'bureau_indian_education', \n",
    "                              'AGCHRT09': 'charter_status', \n",
    "                              'SCH09': 'total_schools', \n",
    "                              'ELL09': 'english_language_learners'}\n",
    "\n",
    "normal_missing_value_columns = {'T02': 'local_revenue_parent_government_contributions', \n",
    "                                'T06': 'local_revenue_property_tax', \n",
    "                                'T09': 'local_revenue_sales_tax', \n",
    "                                'T15': 'local_revenue_utilities_tax', \n",
    "                                'T40': 'local_revenue_income_tax', \n",
    "                                'T99': 'local_revenue_other_tax', \n",
    "                                'ELMTCH09': 'teachers_elementary', \n",
    "                                'SECTCH09': 'teachers_secondary', \n",
    "                                'UGTCH09': 'teachers_ungraded', \n",
    "                                'TOTTCH09': 'teachers_total', \n",
    "                                'LEAADM09': 'administrators_district', \n",
    "                                'SCHADM09': 'administrators_school', \n",
    "                                'STUSUP09': 'staff_student_support'}\n",
    "\n",
    "many_missing_value_columns = {'TOTALREV': 'total_revenue', \n",
    "                              'TFEDREV': 'total_federal_revenue', \n",
    "                              'C14': 'federal_revenue_state_title_i', \n",
    "                              'C15': 'federal_revenue_ideas', \n",
    "                              'C16': 'federal_revenue_math_science_quality', \n",
    "                              'C17': 'federal_revenue_drug_free', \n",
    "                              'C19': 'federal_revenue_vocational_tech_training', \n",
    "                              'B10': 'federal_revenue_impact_aid', \n",
    "                              'B12': 'federal_revenue_indian_education', \n",
    "                              'B13': 'federal_revenue_other', \n",
    "                              'TSTREV': 'total_state_revenue', \n",
    "                              'C01': 'state_revenue_general_formula_assistance', \n",
    "                              'C04': 'state_revenue_staff_improvement', \n",
    "                              'C05': 'state_revenue_special_education',\n",
    "                              'C06': 'state_revenue_compensatory_basic_training', \n",
    "                              'C07': 'state_revenue_bilingual_education', \n",
    "                              'C08': 'state_revenue_gifted_talented', \n",
    "                              'C09': 'state_revenue_vocational_education', \n",
    "                              'C10': 'state_revenue_school_lunch', \n",
    "                              'C11': 'state_revenue_capital_outlay_debt_services', \n",
    "                              'C12': 'state_revenue_transportation', \n",
    "                              'C13': 'state_revenue_other', \n",
    "                              'C35': 'state_revenue_nonspecified', \n",
    "                              'C38': 'state_revenue_employee_benefits', \n",
    "                              'C39': 'state_revenue_not_employee_benefits', \n",
    "                              'TLOCREV': 'total_local_revenue', \n",
    "                              'D11': 'local_revenue_other_school_systems', \n",
    "                              'D23': 'local_revenue_cities_counties',\n",
    "                              'A07': 'local_revenue_tuition_fee_pupils_parents', \n",
    "                              'A08': 'local_revenue_transportation_fee_pupil_parents', \n",
    "                              'A09': 'local_revenue_school_lunch', \n",
    "                              'A11': 'local_revenue_textbook_sale_rental', \n",
    "                              'A13': 'local_revenue_district_activity_receipt', \n",
    "                              'A15': 'local_revenue_student_fee_nonspecified', \n",
    "                              'A20': 'local_revenue_other_sales_services', \n",
    "                              'A40': 'local_revenue_rent_royalties', \n",
    "                              'U11': 'local_revenue_property_sales', \n",
    "                              'U22': 'local_revenue_interest_earnings', \n",
    "                              'U30': 'local_revenue_fines_forfeits', \n",
    "                              'U50': 'local_revenue_private_contributions', \n",
    "                              'U97': 'local_revenue_miscellaneous', \n",
    "                              'C24': 'local_revenue_NCES', \n",
    "                              'TOTALEXP': 'total_expenditure',\n",
    "                              'TCURELSC': 'total_expenditure_elementary_secondary', \n",
    "                              'TCURINST': 'total_expenditure_instruction', \n",
    "                              'E13': 'total_expenditure_instruction_public', \n",
    "                              'V91': 'expenditure_private_school', \n",
    "                              'V92': 'expenditure_charter_school', \n",
    "                              'TCURSSVC': 'total_expenditure_support_services', \n",
    "                              'E17': 'expenditure_support_services_pupils', \n",
    "                              'E07': 'expenditure_support_services_instructional_staff', \n",
    "                              'E08': 'expenditure_support_services_general_administration', \n",
    "                              'E09': 'expenditure_support_services_school_administration', \n",
    "                              'V40': 'expenditure_support_services_maintenance', \n",
    "                              'V45': 'expenditure_support_services_transportation', \n",
    "                              'V90': 'expenditure_support_services_business',\n",
    "                              'V85': 'expenditure_support_services_nonspecified', \n",
    "                              'TCUROTH': 'total_expenditure_other_elementary_secondary', \n",
    "                              'E11': 'expenditure_food_service', \n",
    "                              'V60': 'expenditure_enterprise', \n",
    "                              'V65': 'expenditure_other_elementary_secondary', \n",
    "                              'TNONELSE': 'total_expenditure_non_elementary_secondary', \n",
    "                              'V70': 'expenditure_non_elementary_secondary_community_service', \n",
    "                              'V75': 'expenditure_non_elementary_secondary_adult_education', \n",
    "                              'V80': 'expenditure_non_elementary_secondary_other', \n",
    "                              'TCAPOUT': 'total_expenditure_capital_outlay', \n",
    "                              'F12': 'expenditure_capital_outlay_construction', \n",
    "                              'G15': 'expenditure_capital_outlay_land_existing_structures',\n",
    "                              'K09': 'expenditure_capital_outlay_instruction_equipment', \n",
    "                              'K10': 'expenditure_capital_outlay_other_equipment', \n",
    "                              'K11': 'expenditure_capital_outlay_nonspecified', \n",
    "                              'L12': 'payments_state_government', \n",
    "                              'M12': 'payments_local_government', \n",
    "                              'Q11': 'payments_other_school_systems', \n",
    "                              'I86': 'interest_on_debt', \n",
    "                              'Z32': 'total_salaries', \n",
    "                              'Z33': 'salaries_instruction', \n",
    "                              'Z35': 'salaries_regular_education', \n",
    "                              'Z36': 'salaries_special_education', \n",
    "                              'Z37': 'salaries_vocationall_education', \n",
    "                              'Z38': 'salaries_other_education', \n",
    "                              'V11': 'salaries_support_services_pupils', \n",
    "                              'V13': 'salaries_support_services_instructional_staff', \n",
    "                              'V15': 'salaries_support_services_general_administration', \n",
    "                              'V17': 'salaries_support_services_school_administration',\n",
    "                              'V21': 'salaries_support_services_maintenance', \n",
    "                              'V23': 'salaries_support_transportation', \n",
    "                              'V37': 'salaries_support_services_business',\n",
    "                              'V29': 'salaries_food_service',\n",
    "                              'V10': 'employee_benefits_instruction', \n",
    "                              'V12': 'employee_benefits_support_services_pupil', \n",
    "                              'V14': 'employee_benefits_support_services_instructional_staff', \n",
    "                              'V16': 'employee_benefits_support_services_general_administration', \n",
    "                              'V18': 'employee_benefits_support_services_school_administration', \n",
    "                              'V22': 'employee_benefits_support_services_maintenance', \n",
    "                              'V24': 'employee_benefits_support_transportation', \n",
    "                              'V38': 'employee_benefits_support_services_business', \n",
    "                              'V30': 'employee_benefits_food_service', \n",
    "                              'V32': 'employee_benefits_enterprise', \n",
    "                              'V93': 'textbooks', \n",
    "                              '_19H': 'long_term_debt_outstanding_beginning_fiscal_year',\n",
    "                              '_21F': 'long_term_debt_issued_during_fiscal_year', \n",
    "                              '_31F': 'long_term_debt_retired_during_fiscal_year', \n",
    "                              '_41F': 'long_term_debt_outstanding_end_fiscal_year', \n",
    "                              '_61V': 'short_term_debt_outstanding_beginning_fiscal_year', \n",
    "                              '_66V': 'short_term_debt_outstanding_end_fiscal_year', \n",
    "                              'W01': 'assets_sinking_fund', \n",
    "                              'W31': 'assets_bond_fund', \n",
    "                              'W61': 'assets_other_funds', \n",
    "                              'HR1': 'ARRA_revenue', \n",
    "                              'HE1': 'ARRA_current_expenditures', \n",
    "                              'HE2': 'ARRA_capital_outlay_expenditures', \n",
    "                              'LIBSPE09': 'librarian_media_specialists', \n",
    "                              'AM09': 'american_indian_alaskan_native_students', \n",
    "                              'AMALM09': 'american_indian_alaskan_native_male_students', \n",
    "                              'AMALF09': 'american_indian_alaskan_native_female_students', \n",
    "                              'ASIAN09': 'asian_hawaiian_native_pacific_islander_students', \n",
    "                              'ASALM09': 'asian_hawaiian_native_pacific_islander_male_students', \n",
    "                              'ASALF09': 'asian_hawaiian_native_pacific_islander_female_students', \n",
    "                              'HISP09': 'hispanic_students', \n",
    "                              'HIALM09': 'hispanic_male_students', \n",
    "                              'HIALF09': 'hispanic_female_students', \n",
    "                              'BLACK09': 'black_non_hispanic_students', \n",
    "                              'BLALM09': 'black_non_hispanic_male_students', \n",
    "                              'BLALF09': 'black_non_hispanic_female_students', \n",
    "                              'WHITE09': 'white_students', \n",
    "                              'WHALM09': 'white_male_students', \n",
    "                              'WHALF09': 'white_female_students', \n",
    "                              'PACIFIC09': 'hawaiian_native_pacific_islander_students', \n",
    "                              'HPALM09': 'hawaiian_native_pacific_islander_male_students', \n",
    "                              'HPALF09': 'hawaiian_native_pacific_islander_female_students', \n",
    "                              'TR09': 'mixed_race_students', \n",
    "                              'TRALM09': 'mixed_race_male_students',\n",
    "                              'TRALF09': 'mixed_race_female_students'}"
   ]
  },
  {
   "cell_type": "code",
   "execution_count": 32,
   "metadata": {},
   "outputs": [
    {
     "name": "stdout",
     "output_type": "stream",
     "text": [
      "159\n"
     ]
    }
   ],
   "source": [
    "# create list of columns to keep\n",
    "columns_to_keep = ['LEAID', 'NAME', 'exist_five_years']\n",
    "for column in few_missing_values_columns.keys():\n",
    "    columns_to_keep.append(column)\n",
    "for column in normal_missing_value_columns.keys():\n",
    "    columns_to_keep.append(column)\n",
    "for column in many_missing_value_columns.keys():\n",
    "    columns_to_keep.append(column)\n",
    "print(len(columns_to_keep))"
   ]
  },
  {
   "cell_type": "code",
   "execution_count": 33,
   "metadata": {},
   "outputs": [
    {
     "name": "stdout",
     "output_type": "stream",
     "text": [
      "         LEAID                            NAME  exist_five_years  state_name  \\\n",
      "17401  5301080  CENTRAL KITSAP SCHOOL DISTRICT              True  washington   \n",
      "16720  4900069   UTAH SCHOOLS FOR DEAF & BLIND              True        utah   \n",
      "15436  4800068   TREETOPS SCHOOL INTERNATIONAL              True       texas   \n",
      "12906  3904708           PIKE-DELTA-YORK LOCAL              True        ohio   \n",
      "12602  3904362                     BEXLEY CITY              True        ohio   \n",
      "\n",
      "      lowest_grade highest_grade total_students metro_micro  \\\n",
      "17401           PK            12          11365           1   \n",
      "16720           PK            12            428           1   \n",
      "15436           KG            12            367           1   \n",
      "12906           PK            12           1318           1   \n",
      "12602           PK            12           2080           1   \n",
      "\n",
      "      bureau_indian_education charter_status            ...              \\\n",
      "17401                       2              3            ...               \n",
      "16720                       2              3            ...               \n",
      "15436                       2              1            ...               \n",
      "12906                       2              3            ...               \n",
      "12602                       2              3            ...               \n",
      "\n",
      "      black_non_hispanic_female_students white_students white_male_students  \\\n",
      "17401                                186           7595                3892   \n",
      "16720                                  3            274                 151   \n",
      "15436                                 37            230                 119   \n",
      "12906                                  2           1201                 614   \n",
      "12602                                 76           1743                 914   \n",
      "\n",
      "      white_female_students hawaiian_native_pacific_islander_students  \\\n",
      "17401                  3703                                         0   \n",
      "16720                   123                                         0   \n",
      "15436                   111                                         0   \n",
      "12906                   587                                         0   \n",
      "12602                   829                                         0   \n",
      "\n",
      "      hawaiian_native_pacific_islander_male_students  \\\n",
      "17401                                              0   \n",
      "16720                                              0   \n",
      "15436                                              0   \n",
      "12906                                              0   \n",
      "12602                                              0   \n",
      "\n",
      "      hawaiian_native_pacific_islander_female_students mixed_race_students  \\\n",
      "17401                                                0                   0   \n",
      "16720                                                0                   0   \n",
      "15436                                                0                   0   \n",
      "12906                                                0                   0   \n",
      "12602                                                0                   0   \n",
      "\n",
      "      mixed_race_male_students mixed_race_female_students  \n",
      "17401                        0                          0  \n",
      "16720                        0                          0  \n",
      "15436                        0                          0  \n",
      "12906                        0                          0  \n",
      "12602                        0                          0  \n",
      "\n",
      "[5 rows x 159 columns]\n"
     ]
    }
   ],
   "source": [
    "# remove unnecessary columns\n",
    "wrangled_data_ii = wrangled_data[columns_to_keep].copy()\n",
    "\n",
    "# rename columns\n",
    "wrangled_data_ii.rename(columns=few_missing_values_columns, inplace=True)\n",
    "wrangled_data_ii.rename(columns=normal_missing_value_columns, inplace=True)\n",
    "wrangled_data_ii.rename(columns=many_missing_value_columns, inplace=True)\n",
    "\n",
    "wrangled_data_ii['state_name'] = wrangled_data_ii['state_name'].str.lower()\n",
    "\n",
    "print(wrangled_data_ii.sample(5))"
   ]
  },
  {
   "cell_type": "code",
   "execution_count": 34,
   "metadata": {},
   "outputs": [],
   "source": [
    "# save dataframe to csv\n",
    "wrangled_data_ii.to_csv('output/wrangled_data_ii.csv', index=False)"
   ]
  }
 ],
 "metadata": {
  "kernelspec": {
   "display_name": "Python 3",
   "language": "python",
   "name": "python3"
  },
  "language_info": {
   "codemirror_mode": {
    "name": "ipython",
    "version": 3
   },
   "file_extension": ".py",
   "mimetype": "text/x-python",
   "name": "python",
   "nbconvert_exporter": "python",
   "pygments_lexer": "ipython3",
   "version": "3.6.5"
  }
 },
 "nbformat": 4,
 "nbformat_minor": 2
}
