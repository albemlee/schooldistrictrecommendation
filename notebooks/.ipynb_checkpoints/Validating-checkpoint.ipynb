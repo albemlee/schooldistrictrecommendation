{
 "cells": [
  {
   "cell_type": "code",
   "execution_count": 1,
   "metadata": {},
   "outputs": [],
   "source": [
    "# Set Working Directory\n",
    "import os\n",
    "os.chdir('..')"
   ]
  },
  {
   "cell_type": "code",
   "execution_count": 2,
   "metadata": {},
   "outputs": [],
   "source": [
    "# Load Requirements\n",
    "import pandas as pd\n",
    "import numpy as np\n",
    "import chardet\n",
    "import zipfile\n",
    "from functools import reduce\n",
    "from sklearn.model_selection import train_test_split\n",
    "import matplotlib.pyplot as plt\n",
    "from sklearn.pipeline import Pipeline\n",
    "from sklearn.preprocessing import Imputer, Normalizer, MinMaxScaler\n",
    "from sklearn.decomposition import PCA\n",
    "from sklearn.cluster import KMeans\n",
    "from sklearn.externals import joblib\n",
    "\n",
    "from helper import *"
   ]
  },
  {
   "cell_type": "markdown",
   "metadata": {},
   "source": [
    "# Obtain data"
   ]
  },
  {
   "cell_type": "markdown",
   "metadata": {},
   "source": [
    "The data I used for this project came from the [Common Core Dataset](https://nces.ed.gov/ccd/)  managed by the [National Center of Education Statistics](https://nces.ed.gov/). <br/>\n",
    "\n",
    "In this section we will verify whether the model performs adequately on school districts from the 2004-2005 school year.\n",
    "\n",
    "The datasets needed are: <br/>  \n",
    "- [Universe - District Level - 2004-2005](https://nces.ed.gov/ccd/data/zip/ag041c_dat.zip)\n",
    "- [Universe - School Level - 2004-2005](https://nces.ed.gov/ccd/data/zip/sc041bai_dat.zip): States A-I\n",
    "- [Universe - School Level - 2004-2005](https://nces.ed.gov/ccd/data/zip/sc041bkn_dat.zip): States K-N\n",
    "- [Universe - School Level - 2004-2005](https://nces.ed.gov/ccd/data/zip/sc041bow_dat.zip): States O-W\n",
    "- [Universe - District Level - 2009-2010](https://nces.ed.gov/ccd/data/zip/ag092a_txt.zip)\n",
    "- [Finance - District Level - 2004-2005](https://nces.ed.gov/ccd/data/zip/sdf051c.txt.zip)\n",
    "- [Dropout - District Level - 2004-2005](https://nces.ed.gov/ccd/data/zip/agdr041a_dat.zip)"
   ]
  },
  {
   "cell_type": "markdown",
   "metadata": {},
   "source": [
    "I downloaded the data into the 'data' folder, and they were renamed using a common schema ('filetype_fiscalYYYY.txt.zip'). <br/>\n",
    "\n",
    "Examples:\n",
    "- 'school_universe_fiscal2010.txt.zip'\n",
    "- 'directory_fiscal2015.txt.zip'\n",
    "- 'dropout_fiscal2010.txt.zip'"
   ]
  },
  {
   "cell_type": "markdown",
   "metadata": {},
   "source": [
    "# Load data into data frames"
   ]
  },
  {
   "cell_type": "markdown",
   "metadata": {},
   "source": [
    "The function (load_data) that was used to load the 2009-2010 data into dataframes is stored in the helper file. I used the same function to load the data from 2004-2005.\n",
    "\n",
    "The only features we need (and their corresponding source) are:\n",
    "- total_students (school universe)\n",
    "- total_schools (universe)\n",
    "- teachers_total (universe)\n",
    "- total_revenue (finance)\n",
    "- total_federal_revenue (finance)\n",
    "- total_state_revenue (finance)\n",
    "- total_local_revenue (finance)\n",
    "- total_expenditure (finance)\n",
    "- total_salaries (finance)\n",
    "- white_students (school_universe)\n",
    "- lowest_grade (universe)\n",
    "- highest_grade (universe)\n",
    "- metro_micro (universe)\n",
    "- charter_status (universe)\n",
    "- state_name (finance)"
   ]
  },
  {
   "cell_type": "code",
   "execution_count": 3,
   "metadata": {},
   "outputs": [],
   "source": [
    "# Read files into dataframes\n",
    "finance_data = load_data('finance', year='2005')\n",
    "universe_data = load_data('universe', year='2005')"
   ]
  },
  {
   "cell_type": "code",
   "execution_count": 4,
   "metadata": {},
   "outputs": [
    {
     "name": "stdout",
     "output_type": "stream",
     "text": [
      "finance_data: (16605, 242)\n",
      "universe_data: (18084, 1)\n"
     ]
    }
   ],
   "source": [
    "# Print shapes of data\n",
    "print('finance_data:', finance_data.shape)\n",
    "print('universe_data:', universe_data.shape)"
   ]
  },
  {
   "cell_type": "markdown",
   "metadata": {},
   "source": [
    "Universe data is not in delimited format (only 1 column). They are in fixed width formats and will be manually parsed."
   ]
  },
  {
   "cell_type": "code",
   "execution_count": 5,
   "metadata": {},
   "outputs": [],
   "source": [
    "archive = zipfile.ZipFile('data/universe_fiscal2005.txt.zip', 'r')\n",
    "text_file = archive.open('universe_fiscal2005.txt')\n",
    "\n",
    "data_dict = {'LEAID': [],\n",
    "             'total_schools': [],\n",
    "             'teachers_total': [],\n",
    "             'lowest_grade': [],\n",
    "             'highest_grade': [],\n",
    "             'metro_micro': [],\n",
    "             'charter_status': [],\n",
    "             'BOUND04': []}\n",
    "\n",
    "for line in text_file.readlines():\n",
    "    data_dict['LEAID'].append(line[0:7])\n",
    "    data_dict['total_schools'].append(line[289:294])\n",
    "    data_dict['teachers_total'].append(line[294:301])\n",
    "    data_dict['lowest_grade'].append(line[284:286])\n",
    "    data_dict['highest_grade'].append(line[286:288])\n",
    "    data_dict['metro_micro'].append(line[280:281])\n",
    "    data_dict['charter_status'].append(line[288:289])\n",
    "    data_dict['BOUND04'].append(line[283:284])\n",
    "    \n",
    "universe_data = pd.DataFrame.from_dict(data_dict)\n",
    "universe_data['LEAID'] = universe_data['LEAID'].apply(lambda x: x.decode(\"windows-1252\"))\n",
    "universe_data['lowest_grade'] = universe_data['lowest_grade'].apply(lambda x: x.decode(\"windows-1252\"))\n",
    "universe_data['highest_grade'] = universe_data['highest_grade'].apply(lambda x: x.decode(\"windows-1252\"))\n",
    "universe_data['charter_status'] = universe_data['charter_status'].apply(lambda x: x.decode(\"windows-1252\"))\n",
    "universe_data['metro_micro'] = universe_data['metro_micro'].apply(lambda x: x.decode(\"windows-1252\"))\n",
    "universe_data.loc[universe_data['lowest_grade']=='N ', 'lowest_grade'] = float('nan')\n",
    "universe_data.loc[universe_data['highest_grade']=='N ', 'highest_grade'] = float('nan')"
   ]
  },
  {
   "cell_type": "code",
   "execution_count": 6,
   "metadata": {},
   "outputs": [
    {
     "name": "stdout",
     "output_type": "stream",
     "text": [
      "universe_data: (18085, 8)\n"
     ]
    }
   ],
   "source": [
    "print('universe_data:', universe_data.shape)"
   ]
  },
  {
   "cell_type": "markdown",
   "metadata": {},
   "source": [
    "# Aggregate school level universe data to produce district level data"
   ]
  },
  {
   "cell_type": "markdown",
   "metadata": {},
   "source": [
    "The demographic breakdown of school districts are not available in the district-level universe data. To obtain district-level demographic data, I aggregated the demographic data from the school level.\n",
    "\n",
    "Unlike the 2009-2010 data, the 2004-2005 was in a fixed width format instead of a delimited format. That means that the aggregate_school_data function in the helper file couldn't be applied to the 2004-2005 demographic data, and I had to manually parse the file into a dataframe."
   ]
  },
  {
   "cell_type": "code",
   "execution_count": 7,
   "metadata": {},
   "outputs": [
    {
     "name": "stdout",
     "output_type": "stream",
     "text": [
      "demographic_data: (17081, 17)\n"
     ]
    }
   ],
   "source": [
    "archive = zipfile.ZipFile('data/school_universe_fiscal2005.txt.zip', 'r')\n",
    "text_file = archive.open('school_universe_fiscal2005.txt')\n",
    "\n",
    "data_dict = {\n",
    "    'LEAID': [], \n",
    "    'total_students': [],\n",
    "    'american_indian_alaskan_native_students': [], \n",
    "    'american_indian_alaskan_native_male_students': [], \n",
    "    'american_indian_alaskan_native_female_students': [], \n",
    "    'asian_hawaiian_native_pacific_islander_students': [],\n",
    "    'asian_hawaiian_native_pacific_islander_male_students': [],\n",
    "    'asian_hawaiian_native_pacific_islander_female_students': [],\n",
    "    'hispanic_students': [], \n",
    "    'hispanic_male_students': [],\n",
    "    'hispanic_female_students': [], \n",
    "    'black_non_hispanic_students': [], \n",
    "    'black_non_hispanic_male_students': [], \n",
    "    'black_non_hispanic_female_students': [], \n",
    "    'white_students': [], \n",
    "    'white_male_students': [], \n",
    "    'white_female_students': [],\n",
    "}\n",
    "\n",
    "for line in text_file.readlines():\n",
    "    data_dict['LEAID'].append(line[0:7])\n",
    "    data_dict['total_students'].append(line[1358:1362])\n",
    "    data_dict['american_indian_alaskan_native_students'].append(line[1362:1366])\n",
    "    data_dict['american_indian_alaskan_native_male_students'].append(line[1366:1370])\n",
    "    data_dict['american_indian_alaskan_native_female_students'].append(line[1370:1374])\n",
    "    data_dict['asian_hawaiian_native_pacific_islander_students'].append(line[1378:1382])\n",
    "    data_dict['asian_hawaiian_native_pacific_islander_male_students'].append(line[1382:1386])\n",
    "    data_dict['asian_hawaiian_native_pacific_islander_female_students'].append(line[1386:1390])\n",
    "    data_dict['hispanic_students'].append(line[1394:1398])\n",
    "    data_dict['hispanic_male_students'].append(line[1399:1402])\n",
    "    data_dict['hispanic_female_students'].append(line[1403:1406])\n",
    "    data_dict['black_non_hispanic_students'].append(line[1410:1414])\n",
    "    data_dict['black_non_hispanic_male_students'].append(line[1414:1418])\n",
    "    data_dict['black_non_hispanic_female_students'].append(line[1418:1422])\n",
    "    data_dict['white_students'].append(line[1426:1430])\n",
    "    data_dict['white_male_students'].append(line[1430:1434])\n",
    "    data_dict['white_female_students'].append(line[1434:1438])\n",
    "    \n",
    "school_universe_data = pd.DataFrame.from_dict(data_dict)\n",
    "school_universe_data['LEAID'] = school_universe_data['LEAID'].apply(lambda x: x.decode(\"windows-1252\"))\n",
    "for column in school_universe_data.columns:\n",
    "    if column != 'LEAID':\n",
    "        school_universe_data[column] = pd.to_numeric(school_universe_data[column])\n",
    "        \n",
    "demographic_data = school_universe_data.groupby('LEAID').sum(skipna=True, min_count=1).reset_index()\n",
    "print('demographic_data:', demographic_data.shape)"
   ]
  },
  {
   "cell_type": "markdown",
   "metadata": {},
   "source": [
    "Because these steps take a long time to complete, I saved the aggregated dataset into a csv file. It is saved in the 'output' folder as 'demographic_data.csv.'"
   ]
  },
  {
   "cell_type": "code",
   "execution_count": 8,
   "metadata": {},
   "outputs": [],
   "source": [
    "# Save aggregated demographic data into outputs folder for later use\n",
    "demographic_data.to_csv(\"output/demographic_data_05.csv\", index=False)"
   ]
  },
  {
   "cell_type": "markdown",
   "metadata": {},
   "source": [
    "# Merge data frames"
   ]
  },
  {
   "cell_type": "code",
   "execution_count": 9,
   "metadata": {},
   "outputs": [
    {
     "name": "stdout",
     "output_type": "stream",
     "text": [
      "merged_data: (18141, 265)\n"
     ]
    }
   ],
   "source": [
    "# Execute merge_data function\n",
    "merged_data = merge_data(finance_data, universe_data, demographic_data)\n",
    "print('merged_data:', merged_data.shape)"
   ]
  },
  {
   "cell_type": "markdown",
   "metadata": {},
   "source": [
    "# Remove flag columns"
   ]
  },
  {
   "cell_type": "markdown",
   "metadata": {},
   "source": [
    "According to documentation, columns that begin with 'FL_' are used to flag data in other columns, and they would not be useful for the analysis. I created a function to remove columns that begin with 'FL_'"
   ]
  },
  {
   "cell_type": "code",
   "execution_count": 10,
   "metadata": {},
   "outputs": [
    {
     "name": "stdout",
     "output_type": "stream",
     "text": [
      "merged_data: (18141, 158)\n"
     ]
    }
   ],
   "source": [
    "merged_data = remove_flag_columns(merged_data)\n",
    "print('merged_data:', merged_data.shape)"
   ]
  },
  {
   "cell_type": "markdown",
   "metadata": {},
   "source": [
    "# Identify NA values"
   ]
  },
  {
   "cell_type": "markdown",
   "metadata": {},
   "source": [
    "According to documentation, there are multiple types of flagged values.\n",
    "- -1: missing data\n",
    "- -2: non-applicable data\n",
    "- -9, -3, -4: low quality data\n",
    "\n",
    "I decided to change missing and low quality values to na and change non-applicable data to 0."
   ]
  },
  {
   "cell_type": "code",
   "execution_count": 11,
   "metadata": {},
   "outputs": [
    {
     "name": "stdout",
     "output_type": "stream",
     "text": [
      "missing values before: 224028\n",
      "missing values after: 224272\n"
     ]
    }
   ],
   "source": [
    "print('missing values before:', pd.isnull(merged_data).sum().sum())\n",
    "merged_data = encode_missing_values(merged_data)\n",
    "print('missing values after:', pd.isnull(merged_data).sum().sum())"
   ]
  },
  {
   "cell_type": "markdown",
   "metadata": {},
   "source": [
    "# Create column to represent whether school district is still operational in 5 years"
   ]
  },
  {
   "cell_type": "markdown",
   "metadata": {},
   "source": [
    "The objective is to predict whether school district will still be operational in 5 years.\n",
    "\n",
    "I created a column within the data frame to represent whether the school district is still operational in 5 years. To do that, I found school districts in the 2009-2010 universe file that were not found in the 2014-2015 membership file and marked them as being no longer operational. In addition, there are columns representing whether the school district is currently operational ('BOUND09 for 2009-2010 and 'SY_STATUS' for 2014-2015), and I marked school districts that are currently not operational as not being operational in five years as well."
   ]
  },
  {
   "cell_type": "code",
   "execution_count": 12,
   "metadata": {},
   "outputs": [],
   "source": [
    "directory_data = load_data('universe', year='2010')\n",
    "\n",
    "def condition1_generate(x):\n",
    "    \"\"\"\n",
    "    Return boolean of whether school district exists in 5 years\n",
    "\n",
    "    param string x: LEAID of school district to check\n",
    "    \"\"\"\n",
    "    condition1 = x in directory_data['LEAID'].values\n",
    "    if condition1:\n",
    "        condition1 = directory_data.loc[directory_data['LEAID']==x, 'BOUND09'].values != '2'\n",
    "    return condition1\n",
    "\n",
    "condition1 = merged_data['LEAID'].apply(condition1_generate)\n",
    "condition2 = merged_data['BOUND04'].apply(lambda x: x != '2')\n",
    "\n",
    "merged_data['exist_five_years'] = condition1 & condition2"
   ]
  },
  {
   "cell_type": "markdown",
   "metadata": {},
   "source": [
    "# Select Features"
   ]
  },
  {
   "cell_type": "code",
   "execution_count": 13,
   "metadata": {},
   "outputs": [],
   "source": [
    "merged_data.rename({'TOTALREV': 'total_revenue',\n",
    "                    'TFEDREV': 'total_federal_revenue',\n",
    "                    'TSTREV': 'total_state_revenue',\n",
    "                    'TLOCREV': 'total_local_revenue',\n",
    "                    'TOTALEXP': 'total_expenditure',\n",
    "                    'Z32': 'total_salaries',\n",
    "                    'STNAME': 'state_name'}, \n",
    "                   axis='columns',\n",
    "                   inplace=True)\n",
    "\n",
    "merged_data['state_name'] = merged_data['state_name'].str.lower()"
   ]
  },
  {
   "cell_type": "code",
   "execution_count": 14,
   "metadata": {},
   "outputs": [],
   "source": [
    "keep_features = ['total_students',\n",
    "                 'total_schools',\n",
    "                 'teachers_total',\n",
    "                 'total_revenue',\n",
    "                 'total_federal_revenue',\n",
    "                 'total_state_revenue',\n",
    "                 'total_local_revenue',\n",
    "                 'total_expenditure',\n",
    "                 'total_salaries',\n",
    "                 'white_students',\n",
    "                 'lowest_grade',\n",
    "                 'highest_grade',\n",
    "                 'metro_micro',\n",
    "                 'charter_status',\n",
    "                 'state_name',\n",
    "                 'LEAID',\n",
    "                 'NAME',\n",
    "                 'exist_five_years']\n",
    "\n",
    "wrangled_data = merged_data[keep_features]"
   ]
  },
  {
   "cell_type": "code",
   "execution_count": 15,
   "metadata": {},
   "outputs": [],
   "source": [
    "# save dataframe to csv\n",
    "wrangled_data.to_csv('output/wrangled_data_ii_2005.csv', index=False)"
   ]
  },
  {
   "cell_type": "markdown",
   "metadata": {},
   "source": [
    "# Clustering"
   ]
  },
  {
   "cell_type": "code",
   "execution_count": 26,
   "metadata": {},
   "outputs": [
    {
     "data": {
      "image/png": "[encoded data removed]",
      "text/plain": [
       "<Figure size 432x288 with 1 Axes>"
      ]
     },
     "metadata": {},
     "output_type": "display_data"
    }
   ],
   "source": [
    "X_train, y_train, X_dev, y_dev, X_test, y_test = prep_columns_cluster(wrangled_data)\n",
    "\n",
    "X = pd.concat([X_train, X_dev, X_test])\n",
    "y = pd.concat([y_train, y_dev, y_test])\n",
    "\n",
    "five_cluster_pipeline = joblib.load(open('output/pipelines/cluster_pipeline.sav', 'rb'))\n",
    "\n",
    "clusters = five_cluster_pipeline.predict(X)\n",
    "labels = y.apply(lambda x: x==False).values.ravel()\n",
    "\n",
    "cluster_frame = pd.DataFrame({'LEAID': wrangled_data.loc[X.index, 'LEAID'], \n",
    "                              'NAME': wrangled_data.loc[X.index, 'NAME'], \n",
    "                              'cluster': clusters, \n",
    "                              'label': labels})\n",
    "\n",
    "cluster_frame.to_csv('output/cluster_results_2005.csv', index=False)\n",
    "\n",
    "def percentage_under(values):\n",
    "    return 100 * sum(values)/len(values)\n",
    "cluster_frame[['cluster', 'label']].groupby('cluster').agg(percentage_under).plot.barh()\n",
    "\n",
    "plt.xlim(0, 100)\n",
    "plt.savefig('output/plots/clusters_2005.jpg')"
   ]
  },
  {
   "cell_type": "code",
   "execution_count": 27,
   "metadata": {},
   "outputs": [],
   "source": [
    "cluster_frame.to_csv('output/cluster_results_2005.csv', index=False)\n"
   ]
  },
  {
   "cell_type": "code",
   "execution_count": null,
   "metadata": {},
   "outputs": [],
   "source": []
  }
 ],
 "metadata": {
  "kernelspec": {
   "display_name": "Python 3",
   "language": "python",
   "name": "python3"
  },
  "language_info": {
   "codemirror_mode": {
    "name": "ipython",
    "version": 3
   },
   "file_extension": ".py",
   "mimetype": "text/x-python",
   "name": "python",
   "nbconvert_exporter": "python",
   "pygments_lexer": "ipython3",
   "version": "3.6.5"
  }
 },
 "nbformat": 4,
 "nbformat_minor": 2
}
